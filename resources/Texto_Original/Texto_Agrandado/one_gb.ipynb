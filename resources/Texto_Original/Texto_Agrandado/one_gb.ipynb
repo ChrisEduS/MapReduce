{
 "cells": [
  {
   "cell_type": "code",
   "execution_count": 1,
   "metadata": {},
   "outputs": [
    {
     "name": "stdout",
     "output_type": "stream",
     "text": [
      "El archivo fue duplicado exitosamente hasta alcanzar 1 GB\n"
     ]
    }
   ],
   "source": [
    "import os\n",
    "\n",
    "def duplicate_file(input_file, output_file, target_size_gb):\n",
    "    # Obtener el tamaño original del archivo\n",
    "    original_size = os.path.getsize(input_file)\n",
    "\n",
    "    # Calcular el tamaño objetivo en bytes\n",
    "    target_size_bytes = target_size_gb * 1024**3\n",
    "\n",
    "    # Leer el contenido del archivo original\n",
    "    with open(input_file, 'rb') as infile:\n",
    "        original_content = infile.read().decode('utf-8')\n",
    "\n",
    "    # Abrir el archivo de salida en modo de escritura\n",
    "    with open(output_file, 'wb') as outfile:\n",
    "        # Inicializar el tamaño actual del archivo duplicado\n",
    "        current_size = 0\n",
    "\n",
    "        # Escribir repetidamente el contenido original hasta alcanzar el tamaño objetivo\n",
    "        while current_size < target_size_bytes:\n",
    "            outfile.write(original_content.encode('utf-8'))\n",
    "            current_size += original_size\n",
    "\n",
    "    print(f\"El archivo fue duplicado exitosamente hasta alcanzar {target_size_gb} GB\")\n",
    "\n",
    "# Usar la función con tu archivo de entrada y salida\n",
    "input_file_path = '../Paulo Coelho - El Alquimista.txt'\n",
    "output_file_path = '../Texto_Agrandado/texto_agrandado.txt'\n",
    "target_size_gb = 1\n",
    "\n",
    "duplicate_file(input_file_path, output_file_path, target_size_gb)\n"
   ]
  },
  {
   "cell_type": "code",
   "execution_count": null,
   "metadata": {},
   "outputs": [],
   "source": []
  }
 ],
 "metadata": {
  "kernelspec": {
   "display_name": "base",
   "language": "python",
   "name": "python3"
  },
  "language_info": {
   "codemirror_mode": {
    "name": "ipython",
    "version": 3
   },
   "file_extension": ".py",
   "mimetype": "text/x-python",
   "name": "python",
   "nbconvert_exporter": "python",
   "pygments_lexer": "ipython3",
   "version": "3.11.4"
  }
 },
 "nbformat": 4,
 "nbformat_minor": 2
}
